{
 "cells": [
  {
   "cell_type": "code",
   "execution_count": 9,
   "metadata": {},
   "outputs": [
    {
     "ename": "SyntaxError",
     "evalue": "'continue' not properly in loop (2598513048.py, line 11)",
     "output_type": "error",
     "traceback": [
      "\u001b[1;36m  File \u001b[1;32m\"C:\\Users\\young\\AppData\\Local\\Temp\\ipykernel_26840\\2598513048.py\"\u001b[1;36m, line \u001b[1;32m11\u001b[0m\n\u001b[1;33m    continue\u001b[0m\n\u001b[1;37m    ^\u001b[0m\n\u001b[1;31mSyntaxError\u001b[0m\u001b[1;31m:\u001b[0m 'continue' not properly in loop\n"
     ]
    }
   ],
   "source": [
    "import json\n",
    "\n",
    "def extract_prompts(data):\n",
    "    result = {\n",
    "        \"subject\": data[\"requested_rewrite\"][0][\"subject\"],\n",
    "        \"transfer_prompt\": [],\n",
    "        \"rephrase_prompt\": [],\n",
    "        \"onehop_prompt\": []\n",
    "    }\n",
    "    if len(data[\"requested_rewrite\"]) > 1:\n",
    "        return None\n",
    "    # Extract transfer prompt and its ground truth answers\n",
    "    for item in data[\"requested_rewrite\"]:\n",
    "        result[\"transfer_prompt\"].append({\n",
    "            \"prompt\": item[\"prompt\"].replace(\"{}\",data[\"requested_rewrite\"][0][\"subject\"]),\n",
    "            \"ground_truth\": [item[\"target_true\"][\"str\"]] + data.get(\"answer_alias\", [])\n",
    "        })\n",
    "\n",
    "    # Extract rephrased prompts and their ground truth answers\n",
    "    rephrase_ground_truth = [data[\"answer\"]] + data.get(\"answer_alias\", [])\n",
    "    for question in data[\"questions\"]:\n",
    "        result[\"rephrase_prompt\"].append({\n",
    "            \"prompt\": question,\n",
    "            \"ground_truth\": rephrase_ground_truth\n",
    "        })\n",
    "\n",
    "    # Extract one-hop prompts and their ground truth answers\n",
    "    for hop in data[\"single_hops\"]:\n",
    "        onehop_ground_truth = [hop[\"answer\"]] + hop.get(\"answer_alias\", [])\n",
    "        result[\"onehop_prompt\"].append({\n",
    "            \"prompt\": hop[\"question\"],\n",
    "            \"ground_truth\": onehop_ground_truth\n",
    "        })\n",
    "\n",
    "    return result\n",
    "\n",
    "# Example usage\n",
    "with open('./MQuAKE-CF-3k.json', 'r') as f:    \n",
    "    data = json.load(f)\n",
    "    # print(data)\n",
    "    res = []\n",
    "    for d in data:\n",
    "        if extract_prompts(d):\n",
    "            res.append(extract_prompts(d))\n",
    "with open(\"./MQuAKE-CF-3k-transfer.json\", \"w\", encoding=\"utf-8\") as f:\n",
    "    ret = json.dumps(res, indent=4, ensure_ascii=False)\n",
    "    f.write(ret)"
   ]
  },
  {
   "cell_type": "code",
   "execution_count": null,
   "metadata": {},
   "outputs": [],
   "source": []
  }
 ],
 "metadata": {
  "kernelspec": {
   "display_name": "pytorch",
   "language": "python",
   "name": "python3"
  },
  "language_info": {
   "codemirror_mode": {
    "name": "ipython",
    "version": 3
   },
   "file_extension": ".py",
   "mimetype": "text/x-python",
   "name": "python",
   "nbconvert_exporter": "python",
   "pygments_lexer": "ipython3",
   "version": "3.8.17"
  }
 },
 "nbformat": 4,
 "nbformat_minor": 2
}
